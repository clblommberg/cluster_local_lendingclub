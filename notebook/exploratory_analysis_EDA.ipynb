{
 "cells": [
  {
   "cell_type": "markdown",
   "id": "f45ecbd6-c74d-4dde-a967-d016b746d1db",
   "metadata": {},
   "source": [
    "# Data Preparation"
   ]
  },
  {
   "cell_type": "markdown",
   "id": "ca32ff23-a4f2-43eb-be8b-e935164c9bba",
   "metadata": {},
   "source": [
    "## Import Libraries"
   ]
  },
  {
   "cell_type": "code",
   "execution_count": 14,
   "id": "176ac570-5f4c-44bd-b4b4-8996aa0a3005",
   "metadata": {},
   "outputs": [],
   "source": [
    "import pandas as pd \n",
    "import numpy as np \n",
    "import scipy as sp \n",
    "\n",
    "import matplotlib.pyplot as plt\n",
    "import seaborn as sns\n",
    "from pyspark.sql import SparkSession\n",
    "\n",
    "# Importar funciones necesarias\n",
    "from pyspark.sql.functions import col, to_date, weekofyear,year, month, dayofmonth, sum\n",
    "from pyspark.sql.functions import col, sum as spark_sum\n",
    "from pyspark.sql.functions import regexp_replace, col, when\n",
    "from pyspark.sql.functions import format_number\n",
    "from pyspark.sql.types import IntegerType,FloatType\n",
    "# Puedes obtener estadísticas específicas para una columna\n",
    "from pyspark.sql.functions import mean, min, max\n",
    "from pyspark.sql.functions import approx_count_distinct\n",
    "from pyspark.sql.window import Window\n",
    "from pyspark.sql.functions import log1p\n",
    "from pyspark.sql import functions as F\n"
   ]
  },
  {
   "cell_type": "markdown",
   "id": "74d41699-5130-4fd7-83c1-26fcda9a0fde",
   "metadata": {},
   "source": [
    "# Import Data"
   ]
  },
  {
   "cell_type": "markdown",
   "id": "1922bf47-41d4-4227-b7a5-e78e22363d42",
   "metadata": {},
   "source": [
    "This dataset contains the full LendingClub data available from [their site](https://www.lendingclub.com). There are separate files for accepted and rejected loans. The accepted loans also include the FICO scores, which can only be downloaded when you are signed in to LendingClub and download the data (https://www.kaggle.com/datasets/wordsforthewise/lending-club).\n",
    "\n"
   ]
  },
  {
   "cell_type": "code",
   "execution_count": null,
   "id": "a734a581-a906-40ae-9481-72355828c053",
   "metadata": {},
   "outputs": [],
   "source": []
  },
  {
   "cell_type": "code",
   "execution_count": 2,
   "id": "d13c6200-2b16-4ff1-9889-cf74fd03862c",
   "metadata": {},
   "outputs": [],
   "source": [
    "\n",
    "# Crear la sesión de Spark\n",
    "spark = SparkSession.builder.appName(\"AppLending\").getOrCreate()\n",
    "\n",
    "# Rutas de los archivos CSV comprimidos\n",
    "accepted_r = 'hdfs://namenode:8020/datasets/raw/accepted_2007_to_2018Q4.csv.gz'\n",
    "rejected_r = 'hdfs://namenode:8020/datasets/raw/rejected_2007_to_2018Q4.csv.gz'\n",
    "#accepted_df = spark.read.csv(\"hdfs://namenode:8020/datasets/raw/accepted_2007_to_2018Q4.csv.gz\", header=True, inferSchema=True)\n",
    "\n",
    "# Leer los archivos CSV comprimidos usando PySpark\n",
    "accepted_df = spark.read.option(\"header\", \"true\").option(\"inferSchema\", \"true\").csv(accepted_r)\n",
    "rejected_df = spark.read.option(\"header\", \"true\").option(\"inferSchema\", \"true\").csv(rejected_r)"
   ]
  },
  {
   "cell_type": "code",
   "execution_count": 3,
   "id": "e0dff429-1256-40d8-a1c4-dd5c99ebce31",
   "metadata": {},
   "outputs": [],
   "source": [
    "# Haciendo una copia del DataFrame usando alias\n",
    "accepted_dfm = accepted_df.alias(\"accepted_dfm\")\n",
    "rejected_dfm = rejected_df.alias(\"rejected_dfm\")"
   ]
  },
  {
   "cell_type": "markdown",
   "id": "6411fc3b-f2df-4ef2-bb97-70bb9bf2f672",
   "metadata": {},
   "source": [
    "## Explore Data"
   ]
  },
  {
   "cell_type": "code",
   "execution_count": 7,
   "id": "0c61f73b-f040-428d-bbc7-ec8636a72f92",
   "metadata": {},
   "outputs": [
    {
     "name": "stdout",
     "output_type": "stream",
     "text": [
      "(27648741, 9)\n"
     ]
    }
   ],
   "source": [
    "print((rejected_dfm.count(), len(rejected_dfm.columns)))"
   ]
  },
  {
   "cell_type": "code",
   "execution_count": 8,
   "id": "8c81bda5-a949-458a-a9e0-d667fcf30f01",
   "metadata": {},
   "outputs": [
    {
     "name": "stdout",
     "output_type": "stream",
     "text": [
      "(2260701, 151)\n"
     ]
    }
   ],
   "source": [
    "print((accepted_dfm.count(), len(accepted_dfm.columns)))"
   ]
  },
  {
   "cell_type": "code",
   "execution_count": null,
   "id": "5529fe66-3576-4491-ae06-93ccfafa7219",
   "metadata": {},
   "outputs": [],
   "source": []
  },
  {
   "cell_type": "code",
   "execution_count": 9,
   "id": "1ee7e193-de63-4a76-b7e1-fa429ce9b08a",
   "metadata": {},
   "outputs": [
    {
     "name": "stdout",
     "output_type": "stream",
     "text": [
      "root\n",
      " |-- Amount Requested: double (nullable = true)\n",
      " |-- Application Date: date (nullable = true)\n",
      " |-- Loan Title: string (nullable = true)\n",
      " |-- Risk_Score: string (nullable = true)\n",
      " |-- Debt-To-Income Ratio: string (nullable = true)\n",
      " |-- Zip Code: string (nullable = true)\n",
      " |-- State: string (nullable = true)\n",
      " |-- Employment Length: string (nullable = true)\n",
      " |-- Policy Code: string (nullable = true)\n",
      "\n"
     ]
    }
   ],
   "source": [
    "rejected_dfm.printSchema()"
   ]
  },
  {
   "cell_type": "code",
   "execution_count": 9,
   "id": "4a896de2-6faf-4b18-95d6-25c38b45bee4",
   "metadata": {},
   "outputs": [
    {
     "name": "stdout",
     "output_type": "stream",
     "text": [
      "+----------------+----------------+--------------------+----------+--------------------+--------+-----+-----------------+-----------+\n",
      "|Amount Requested|Application Date|          Loan Title|Risk_Score|Debt-To-Income Ratio|Zip Code|State|Employment Length|Policy Code|\n",
      "+----------------+----------------+--------------------+----------+--------------------+--------+-----+-----------------+-----------+\n",
      "|          1000.0|      2007-05-26|Wedding Covered b...|     693.0|                 10%|   481xx|   NM|          4 years|        0.0|\n",
      "|          1000.0|      2007-05-26|  Consolidating Debt|     703.0|                 10%|   010xx|   MA|         < 1 year|        0.0|\n",
      "|         11000.0|      2007-05-27|Want to consolida...|     715.0|                 10%|   212xx|   MD|           1 year|        0.0|\n",
      "|          6000.0|      2007-05-27|             waksman|     698.0|              38.64%|   017xx|   MA|         < 1 year|        0.0|\n",
      "|          1500.0|      2007-05-27|              mdrigo|     509.0|               9.43%|   209xx|   MD|         < 1 year|        0.0|\n",
      "|         15000.0|      2007-05-27|          Trinfiniti|     645.0|                  0%|   105xx|   NY|          3 years|        0.0|\n",
      "|         10000.0|      2007-05-27|         NOTIFYi Inc|     693.0|                 10%|   210xx|   MD|         < 1 year|        0.0|\n",
      "|          3900.0|      2007-05-27|         For Justin.|     700.0|                 10%|   469xx|   IN|          2 years|        0.0|\n",
      "|          3000.0|      2007-05-28|              title?|     694.0|                 10%|   808xx|   CO|          4 years|        0.0|\n",
      "|          2500.0|      2007-05-28|            timgerst|     573.0|              11.76%|   407xx|   KY|          4 years|        0.0|\n",
      "|          3900.0|      2007-05-28| need to consolidate|     710.0|                 10%|   705xx|   LA|        10+ years|        0.0|\n",
      "|          1000.0|      2007-05-28|          sixstrings|     680.0|                 10%|   424xx|   KY|           1 year|        0.0|\n",
      "|          3000.0|      2007-05-28|          bmoore5110|     688.0|                 10%|   190xx|   PA|         < 1 year|        0.0|\n",
      "|          1500.0|      2007-05-28|            MHarkins|     704.0|                 10%|   189xx|   PA|          3 years|        0.0|\n",
      "|          1000.0|      2007-05-28|              Moving|     694.0|                 10%|   354xx|   AL|         < 1 year|        0.0|\n",
      "|          8000.0|      2007-05-28|Recent College Gr...|     708.0|                 10%|   374xx|   TN|         < 1 year|        0.0|\n",
      "|         12000.0|      2007-05-29|    FoundersCafe.com|     685.0|                 10%|   770xx|   TX|          3 years|        0.0|\n",
      "|          1000.0|      2007-05-29|        UChicago2004|     698.0|                 10%|   207xx|   MD|          3 years|        0.0|\n",
      "|         15000.0|      2007-05-29|Cancer is Killing...|     680.0|                 10%|   432xx|   OH|         < 1 year|        0.0|\n",
      "|          5000.0|      2007-05-29|2006-2007 College...|     680.0|                 10%|   011xx|   MA|         < 1 year|        0.0|\n",
      "+----------------+----------------+--------------------+----------+--------------------+--------+-----+-----------------+-----------+\n",
      "only showing top 20 rows\n",
      "\n"
     ]
    }
   ],
   "source": [
    "rejected_dfm.show()"
   ]
  },
  {
   "cell_type": "code",
   "execution_count": 4,
   "id": "3d745343-424b-4198-9676-90a3a27d6225",
   "metadata": {},
   "outputs": [],
   "source": [
    "# Aplicar tratamiento a los caracteres no numéricos y convertir a tipo Integer\n",
    "# Definir una función UDF para convertir a tipo Float\n",
    "def convert_to_float(column):\n",
    "    return when(col(column).cast(\"float\").isNull(), 0).otherwise(col(column).cast(\"float\"))\n",
    "\n",
    "# Aplicar tratamiento a los caracteres no numéricos y convertir a tipo Float\n",
    "rejected_dfm = rejected_dfm.withColumn(\"Risk_Score\", convert_to_float(\"Risk_Score\"))\n",
    "rejected_dfm = rejected_dfm.withColumn(\"Debt-To-Income Ratio\", convert_to_float(\"Debt-To-Income Ratio\"))\n",
    "rejected_dfm = rejected_dfm.withColumn(\"Zip Code\", regexp_replace(col(\"Zip Code\"), \"[^0-9]\", \"\").cast(\"string\"))\n",
    "rejected_dfm = rejected_dfm.withColumn(\"Policy Code\", convert_to_float(\"Policy Code\"))"
   ]
  },
  {
   "cell_type": "code",
   "execution_count": null,
   "id": "b481dc84-fb44-4c2b-9dd4-a94ae9f02faf",
   "metadata": {},
   "outputs": [],
   "source": []
  },
  {
   "cell_type": "code",
   "execution_count": 11,
   "id": "13d3383f-942c-4b28-90bc-0af0c5e32a8b",
   "metadata": {},
   "outputs": [
    {
     "name": "stdout",
     "output_type": "stream",
     "text": [
      "+----------------+----------------+----------+----------+--------------------+--------+-----+-----------------+-----------+\n",
      "|Amount Requested|Application Date|Loan Title|Risk_Score|Debt-To-Income Ratio|Zip Code|State|Employment Length|Policy Code|\n",
      "+----------------+----------------+----------+----------+--------------------+--------+-----+-----------------+-----------+\n",
      "|               0|               0|      1303|  18497631|                   1|     293|   22|           951355|        919|\n",
      "+----------------+----------------+----------+----------+--------------------+--------+-----+-----------------+-----------+\n",
      "\n"
     ]
    }
   ],
   "source": [
    "# Verificar valores nulos por columna y contarlos\n",
    "null_counts = rejected_dfm.select([spark_sum(col(c).isNull().cast(\"int\")).alias(c) for c in rejected_dfm.columns])\n",
    "null_counts.show()"
   ]
  },
  {
   "cell_type": "markdown",
   "id": "33ae4a6d-b6a8-426d-a0ad-4e09484ab600",
   "metadata": {},
   "source": [
    "| Campo                | Descripción                                                                                                     |\n",
    "|----------------------|-----------------------------------------------------------------------------------------------------------------|\n",
    "| Amount Requested     | La cantidad total solicitada por el prestatario.                                                                  |\n",
    "| Application Date     | La fecha en la cual el prestatario presentó la solicitud.                                                         |\n",
    "| Loan Title           | El título del préstamo proporcionado por el prestatario.                                                            |\n",
    "| Risk_Score           | Para aplicaciones anteriores al 5 de noviembre de 2007, la puntuación de riesgo es la puntuación FICO del prestatario. Para aplicaciones después del 5 de noviembre de 2018, la puntuación de riesgo es la puntuación Vantage del prestatario. |\n",
    "| Debt-To-Income Ratio | Una proporción calculada utilizando los pagos mensuales totales del prestatario en las obligaciones de deuda totales, excluyendo la hipoteca y el préstamo solicitado a través de LC, dividido por los ingresos mensuales autodeclarados del prestatario. |\n",
    "| Zip Code             | Los primeros 3 números del código postal proporcionado por el prestatario en la solicitud de préstamo.           |\n",
    "| State                | El estado proporcionado por el prestatario en la solicitud de préstamo.                                            |\n",
    "| Employment Length    | Duración del empleo en años. Los valores posibles están entre 0 y 10, donde 0 significa menos de un año y 10 significa diez o más años. |\n",
    "| Policy Code          | Código de política disponible públicamente. policy_code=1 para nuevos productos no disponibles públicamente, policy_code=2. |\n"
   ]
  },
  {
   "cell_type": "code",
   "execution_count": 12,
   "id": "43ed9a6a-1f01-4aa7-a17c-9181a2612027",
   "metadata": {},
   "outputs": [
    {
     "name": "stdout",
     "output_type": "stream",
     "text": [
      "+----------+\n",
      "|Risk_Score|\n",
      "+----------+\n",
      "|     714.0|\n",
      "|     550.0|\n",
      "|     769.0|\n",
      "|     364.0|\n",
      "|     886.0|\n",
      "|     729.0|\n",
      "|     803.0|\n",
      "|     362.0|\n",
      "|     425.0|\n",
      "|     955.0|\n",
      "|     332.0|\n",
      "|     692.0|\n",
      "|     797.0|\n",
      "|     911.0|\n",
      "|     615.0|\n",
      "|     829.0|\n",
      "|     331.0|\n",
      "|     308.0|\n",
      "|     500.0|\n",
      "|     547.0|\n",
      "+----------+\n",
      "only showing top 20 rows\n",
      "\n"
     ]
    }
   ],
   "source": [
    "# Revisemos el Target del los Créditos Rechazados\n",
    "rejected_dfm_keys = rejected_dfm.select(\"Risk_Score\").distinct()\n",
    "rejected_dfm_keys.show()"
   ]
  },
  {
   "cell_type": "code",
   "execution_count": null,
   "id": "9295ded6-4073-4c2d-875d-d51bb511b7ca",
   "metadata": {},
   "outputs": [],
   "source": []
  },
  {
   "cell_type": "code",
   "execution_count": 26,
   "id": "2804c9e8-3ce2-4b55-8b23-6cc01bea0c16",
   "metadata": {},
   "outputs": [
    {
     "name": "stdout",
     "output_type": "stream",
     "text": [
      "+-------+----------------+------------+--------------------+-------------+\n",
      "|summary|Amount Requested|  Risk_Score|Debt-To-Income Ratio|  Policy Code|\n",
      "+-------+----------------+------------+--------------------+-------------+\n",
      "|  count|   27,648,741.00|9,151,110.00|       27,648,740.00|27,647,822.00|\n",
      "|   mean|       13,133.24|      628.17|           35,218.37|         0.64|\n",
      "| stddev|       15,009.64|       89.94|          547,230.76|        11.27|\n",
      "|    min|            0.00|        0.00|                0.00|         0.00|\n",
      "|    max|    1,400,000.00|      990.00|      500,000,320.00|       200.00|\n",
      "+-------+----------------+------------+--------------------+-------------+\n",
      "\n"
     ]
    }
   ],
   "source": [
    "# Obtener solo las columnas numéricas\n",
    "rejected_dfm_numeric= [col_name for col_name, col_type in rejected_dfm.dtypes if col_type in ['int', 'bigint', 'double', 'float']]\n",
    "# Estadísticas descriptivas de las columnas numéricas\n",
    "\n",
    "# Calcular estadísticas descriptivas solo para las columnas numéricas\n",
    "# rejected_dfm.select(rejected_dfm_numeric).describe().show()\n",
    "\n",
    "# Calcular estadísticas descriptivas solo para las columnas numéricas\n",
    "descriptive_stats= rejected_dfm.select(rejected_dfm_numeric).describe()\n",
    "\n",
    "# Aplicar formato a las columnas numéricas para mostrar solo dos decimales\n",
    "rejected_dfm_stats = descriptive_stats.select(\n",
    "    descriptive_stats[\"summary\"],\n",
    "    *[format_number(descriptive_stats[col].cast(\"double\"), 2).alias(col) for col in descriptive_stats.columns[1:]]\n",
    ")\n",
    "\n",
    "# Mostrar la tabla de estadísticas descriptivas formateada\n",
    "rejected_dfm_stats.show()"
   ]
  },
  {
   "cell_type": "markdown",
   "id": "cdd9c2c7-a452-4673-98ad-cd29089e4f3b",
   "metadata": {},
   "source": [
    "***Interpretación***:<br>\n",
    "La ***cantidad total solicitada*** por los prestatarios varía desde 0 hasta 1,400,000, con una media de aproximadamente 13,133.24.\n",
    "Risk Score (Puntuación de Riesgo):\n",
    "\n",
    "Las ***puntuaciones de riesgo*** van desde 0 hasta 990. La media es aproximadamente 628.17.\n",
    "Debt-To-Income Ratio (Relación Deuda-Ingresos):\n",
    "\n",
    "La ***relación deuda-ingresos*** varía significativamente, con una media de alrededor de 35,218.37. Sin embargo, hay una gran desviación estándar, indicando una variabilidad significativa.\n",
    "Policy Code (Código de Política):\n",
    "\n",
    "El ***código de política*** tiene dos valores posibles: 1 y 2, y parece tener una media de alrededor de 0.64, con una desviación estándar de 11.27."
   ]
  },
  {
   "cell_type": "code",
   "execution_count": null,
   "id": "0e8edacd-edb7-40d9-8e8f-4816076a027c",
   "metadata": {},
   "outputs": [],
   "source": []
  },
  {
   "cell_type": "markdown",
   "id": "108c663f-0872-478d-86bc-d5589c7e02e1",
   "metadata": {},
   "source": [
    "#### Hipostesis planteada\n",
    "***Relación entre Amount Requested y Debt-To-Income Ratio:***\n",
    "\n",
    "Hipótesis: Existe una correlación significativa entre la cantidad solicitada y la relación deuda-ingresos. Los prestatarios que solicitan grandes cantidades podrían tener relaciones deuda-ingresos más altas.\n",
    "***Variación de Risk Score por State:***\n",
    "\n",
    "Hipótesis: La puntuación de riesgo puede variar según el estado del prestatario. Algunos estados podrían tener prestatarios con puntuaciones de riesgo más altas o más bajas en promedio.\n",
    "\n",
    "***Cambios en la Amount Requested a lo largo del tiempo:***\n",
    "Hipótesis: La cantidad solicitada podría haber experimentado cambios a lo largo del tiempo. Podría haber tendencias o patrones notables en la cantidad solicitada a lo largo de los años.\n",
    "\n",
    "***Impacto de Employment Length en la Risk Score:***\n",
    "Hipótesis: La duración del empleo podría estar relacionada con la puntuación de riesgo. Por ejemplo, prestatarios con empleos a largo plazo podrían tener puntuaciones de riesgo más bajas.\n",
    "\n",
    "***Diferencias en Amount Requested entre Policy Code 1 y Policy Code 2:***\n",
    "Hipótesis: Podría haber diferencias significativas en la cantidad solicitada entre los productos nuevos no disponibles públicamente (policy_code=1) y los productos públicamente disponibles (policy_code=2)."
   ]
  },
  {
   "cell_type": "code",
   "execution_count": 7,
   "id": "995fd129-212d-4bef-823e-d79f9dd828e1",
   "metadata": {},
   "outputs": [
    {
     "name": "stdout",
     "output_type": "stream",
     "text": [
      "+----------------+----------------+--------------------+----------+--------------------+--------+-----+-----------------+-----------+\n",
      "|Amount Requested|Application Date|          Loan Title|Risk_Score|Debt-To-Income Ratio|Zip Code|State|Employment Length|Policy Code|\n",
      "+----------------+----------------+--------------------+----------+--------------------+--------+-----+-----------------+-----------+\n",
      "|          1000.0|      2007-05-26|Wedding Covered b...|     693.0|                 0.0|     481|   NM|          4 years|        0.0|\n",
      "|          1000.0|      2007-05-26|  Consolidating Debt|     703.0|                 0.0|     010|   MA|         < 1 year|        0.0|\n",
      "|         11000.0|      2007-05-27|Want to consolida...|     715.0|                 0.0|     212|   MD|           1 year|        0.0|\n",
      "|          6000.0|      2007-05-27|             waksman|     698.0|                 0.0|     017|   MA|         < 1 year|        0.0|\n",
      "|          1500.0|      2007-05-27|              mdrigo|     509.0|                 0.0|     209|   MD|         < 1 year|        0.0|\n",
      "|         15000.0|      2007-05-27|          Trinfiniti|     645.0|                 0.0|     105|   NY|          3 years|        0.0|\n",
      "|         10000.0|      2007-05-27|         NOTIFYi Inc|     693.0|                 0.0|     210|   MD|         < 1 year|        0.0|\n",
      "|          3900.0|      2007-05-27|         For Justin.|     700.0|                 0.0|     469|   IN|          2 years|        0.0|\n",
      "|          3000.0|      2007-05-28|              title?|     694.0|                 0.0|     808|   CO|          4 years|        0.0|\n",
      "|          2500.0|      2007-05-28|            timgerst|     573.0|                 0.0|     407|   KY|          4 years|        0.0|\n",
      "|          3900.0|      2007-05-28| need to consolidate|     710.0|                 0.0|     705|   LA|        10+ years|        0.0|\n",
      "|          1000.0|      2007-05-28|          sixstrings|     680.0|                 0.0|     424|   KY|           1 year|        0.0|\n",
      "|          3000.0|      2007-05-28|          bmoore5110|     688.0|                 0.0|     190|   PA|         < 1 year|        0.0|\n",
      "|          1500.0|      2007-05-28|            MHarkins|     704.0|                 0.0|     189|   PA|          3 years|        0.0|\n",
      "|          1000.0|      2007-05-28|              Moving|     694.0|                 0.0|     354|   AL|         < 1 year|        0.0|\n",
      "|          8000.0|      2007-05-28|Recent College Gr...|     708.0|                 0.0|     374|   TN|         < 1 year|        0.0|\n",
      "|         12000.0|      2007-05-29|    FoundersCafe.com|     685.0|                 0.0|     770|   TX|          3 years|        0.0|\n",
      "|          1000.0|      2007-05-29|        UChicago2004|     698.0|                 0.0|     207|   MD|          3 years|        0.0|\n",
      "|         15000.0|      2007-05-29|Cancer is Killing...|     680.0|                 0.0|     432|   OH|         < 1 year|        0.0|\n",
      "|          5000.0|      2007-05-29|2006-2007 College...|     680.0|                 0.0|     011|   MA|         < 1 year|        0.0|\n",
      "+----------------+----------------+--------------------+----------+--------------------+--------+-----+-----------------+-----------+\n",
      "only showing top 20 rows\n",
      "\n"
     ]
    }
   ],
   "source": [
    "rejected_dfm.show()"
   ]
  },
  {
   "cell_type": "code",
   "execution_count": null,
   "id": "2072b8b4-7453-409a-adb2-4d697c8883a6",
   "metadata": {},
   "outputs": [],
   "source": []
  },
  {
   "cell_type": "code",
   "execution_count": null,
   "id": "93b00949-9ba1-4646-a0ba-f58124895a70",
   "metadata": {},
   "outputs": [],
   "source": []
  },
  {
   "cell_type": "code",
   "execution_count": null,
   "id": "36b89fec-74a2-4f6d-939d-b34a8b91074f",
   "metadata": {},
   "outputs": [],
   "source": []
  },
  {
   "cell_type": "code",
   "execution_count": null,
   "id": "90b19109-cfe8-479b-a843-e1bbe7242a3a",
   "metadata": {},
   "outputs": [],
   "source": []
  }
 ],
 "metadata": {
  "kernelspec": {
   "display_name": "Python 3 (ipykernel)",
   "language": "python",
   "name": "python3"
  },
  "language_info": {
   "codemirror_mode": {
    "name": "ipython",
    "version": 3
   },
   "file_extension": ".py",
   "mimetype": "text/x-python",
   "name": "python",
   "nbconvert_exporter": "python",
   "pygments_lexer": "ipython3",
   "version": "3.11.6"
  }
 },
 "nbformat": 4,
 "nbformat_minor": 5
}
